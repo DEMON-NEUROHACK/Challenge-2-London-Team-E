{
 "cells": [
  {
   "cell_type": "markdown",
   "metadata": {},
   "source": [
    "## Partial Least Squares (PLS) analysis of cognitive measures with health, demographic and pollution features"
   ]
  },
  {
   "cell_type": "markdown",
   "metadata": {},
   "source": [
    "This notebook provides a PLS analysis of LASI-DAD dataset by viewing it as two datasets: a cognitive dataset, and a health, demographics and pollution dataset. We used a small subset of the features (identified as important features in other analysis') from the whole dataset to provide an easy to interpret analysis. Our aim is to find associations between these two datasets which link to disease severity and provide an analysis of feature importance in this associative effect."
   ]
  },
  {
   "cell_type": "markdown",
   "metadata": {},
   "source": [
    "### Introduction to PLS"
   ]
  },
  {
   "cell_type": "markdown",
   "metadata": {},
   "source": [
    "PLS is a multi-view statistical method that finds pairs of weight vectors/components (wx and wy) with maximum covariation between datasets. These weight vectors can be directly interpreted as feature importance and give us an idea of which features contribute to an associative effect."
   ]
  },
  {
   "cell_type": "markdown",
   "metadata": {},
   "source": [
    "### Import libraries"
   ]
  },
  {
   "cell_type": "code",
   "execution_count": 2,
   "metadata": {},
   "outputs": [],
   "source": [
    "import pandas as pd\n",
    "from os.path import join\n",
    "import numpy as np\n",
    "import matplotlib.pyplot as plt\n",
    "from os.path import join\n",
    "from scipy.linalg import svd\n",
    "from collections import OrderedDict\n",
    "import random\n",
    "from statsmodels.discrete.discrete_model import Logit\n",
    "import statsmodels as sm\n",
    "pd.options.display.float_format = '{:.2f}'.format\n",
    "%matplotlib inline"
   ]
  },
  {
   "cell_type": "markdown",
   "metadata": {},
   "source": [
    "### Import and format data"
   ]
  },
  {
   "cell_type": "code",
   "execution_count": 6,
   "metadata": {},
   "outputs": [],
   "source": [
    "path = './LASIDAD'\n",
    "X_features = [\n",
    "'r1agey','ragender','raedyrs','h1rural','r1obsnoise','r1obsodor','r1obsair','r1obshouse','r1i_hear','r1i_sleep','r1systo','r1diasto',\n",
    "'r1pulse','r1bphigh','r1mheight','r1mweight','r1mbmi','r1bmicat','r1adla_d','r1cesd10','r1anx5','r1mna_scale','r1hear_r',\n",
    "'r1hear_l','r1hear_aid',\n",
    "]\n",
    "\n",
    "Y_features = [\n",
    "'r1borient','r1bexefu','r1blangf','r1bmemory','r1bvsp','r1nmemimm','r1nmemdel','r1nmemrec','r1nreason','r1natnspd','r1sgcp','r1hmse_scorz','r1word_totaz',\n",
    "'r1word_dz','r1wre_scorez','r1log_recoz','r1bm_immexz','r1bm_reclexz','r1verbalz','r1csid_scorz','r1cog_totalz','r1rv_scorez',\n",
    "]\n",
    "\n",
    "X_features = X_features + ['prim_key']\n",
    "Y_features = Y_features + ['prim_key']\n",
    "\n",
    "data =  pd.read_csv(join(path, 'categorical_data.csv'), index_col=0)\n",
    "data_cont =  pd.read_csv(join(path, 'continuous_data.csv'), index_col=0)\n",
    "data = pd.merge(data, data_cont, left_on='prim_key', right_on='prim_key')\n",
    "\n",
    "#data_X: demographics, health and pollution measures\n",
    "data_X = data[X_features]\n",
    "\n",
    "#data_Y: cognitive measures\n",
    "data_Y = data[Y_features]\n",
    "\n",
    "#define clinical features\n",
    "data_clin = pd.read_csv(join(path, 'data_clinical.csv'), index_col=0)\n",
    "data_clin = data_clin[data_clin['r1cdr_final'].notna()]\n",
    "score = data_clin['r1cdr_final']\n",
    "\n",
    "#only keep data with clinical labels\n",
    "data_X = data_X.loc[data_X['prim_key'].isin(data_clin['prim_key'])]\n",
    "\n",
    "#drop X features that don't have at least 15 filled columns\n",
    "data_X = data_X.dropna(axis=0, thresh=15)\n",
    "data_X = data_X.fillna(0)\n",
    "\n",
    "#match up subjs across datasets\n",
    "data_Y = data_Y.loc[data_Y['prim_key'].isin(data_clin['prim_key'])]\n",
    "data_Y = data_Y.loc[data_Y['prim_key'].isin(data_X['prim_key'])]\n",
    "data_clin = data_clin.loc[data_clin['prim_key'].isin(data_Y['prim_key'])]\n",
    "score = data_clin['r1cdr_final']\n",
    "\n",
    "#drop subj key\n",
    "data_X.drop(['prim_key'], axis=1, inplace=True)\n",
    "data_Y.drop(['prim_key'], axis=1, inplace=True)\n",
    "\n",
    "#format labels\n",
    "labels_file = pd.read_csv(join(path, 'labels_mapping.csv'))\n",
    "labels_file['Identifier'] = labels_file['Identifier'].apply(lambda x: x.lower())\n",
    "labels_file['Description'] = labels_file['Description'].str.replace('r_', '')\n",
    "labels_file['Description'] = labels_file['Description'].str.replace('R_', '')\n",
    "labels_file['Description'] = labels_file['Description'].str.replace('_', ' ')"
   ]
  },
  {
   "cell_type": "code",
   "execution_count": 7,
   "metadata": {},
   "outputs": [
    {
     "data": {
      "text/html": [
       "<div>\n",
       "<style scoped>\n",
       "    .dataframe tbody tr th:only-of-type {\n",
       "        vertical-align: middle;\n",
       "    }\n",
       "\n",
       "    .dataframe tbody tr th {\n",
       "        vertical-align: top;\n",
       "    }\n",
       "\n",
       "    .dataframe thead th {\n",
       "        text-align: right;\n",
       "    }\n",
       "</style>\n",
       "<table border=\"1\" class=\"dataframe\">\n",
       "  <thead>\n",
       "    <tr style=\"text-align: right;\">\n",
       "      <th></th>\n",
       "      <th>r1agey</th>\n",
       "      <th>ragender</th>\n",
       "      <th>raedyrs</th>\n",
       "      <th>h1rural</th>\n",
       "      <th>r1obsnoise</th>\n",
       "      <th>r1obsodor</th>\n",
       "      <th>r1obsair</th>\n",
       "      <th>r1obshouse</th>\n",
       "      <th>r1i_hear</th>\n",
       "      <th>r1i_sleep</th>\n",
       "      <th>...</th>\n",
       "      <th>r1mweight</th>\n",
       "      <th>r1mbmi</th>\n",
       "      <th>r1bmicat</th>\n",
       "      <th>r1adla_d</th>\n",
       "      <th>r1cesd10</th>\n",
       "      <th>r1anx5</th>\n",
       "      <th>r1mna_scale</th>\n",
       "      <th>r1hear_r</th>\n",
       "      <th>r1hear_l</th>\n",
       "      <th>r1hear_aid</th>\n",
       "    </tr>\n",
       "  </thead>\n",
       "  <tbody>\n",
       "    <tr>\n",
       "      <th>0</th>\n",
       "      <td>-0.23</td>\n",
       "      <td>2</td>\n",
       "      <td>-0.82</td>\n",
       "      <td>1</td>\n",
       "      <td>0.00</td>\n",
       "      <td>0.00</td>\n",
       "      <td>0.00</td>\n",
       "      <td>0.00</td>\n",
       "      <td>0.77</td>\n",
       "      <td>1.35</td>\n",
       "      <td>...</td>\n",
       "      <td>0.66</td>\n",
       "      <td>0.96</td>\n",
       "      <td>1.01</td>\n",
       "      <td>-0.80</td>\n",
       "      <td>0.56</td>\n",
       "      <td>0.38</td>\n",
       "      <td>1.20</td>\n",
       "      <td>0.13</td>\n",
       "      <td>0.79</td>\n",
       "      <td>-0.08</td>\n",
       "    </tr>\n",
       "    <tr>\n",
       "      <th>1</th>\n",
       "      <td>-0.09</td>\n",
       "      <td>2</td>\n",
       "      <td>-0.82</td>\n",
       "      <td>1</td>\n",
       "      <td>0.00</td>\n",
       "      <td>0.00</td>\n",
       "      <td>0.00</td>\n",
       "      <td>0.00</td>\n",
       "      <td>-0.93</td>\n",
       "      <td>1.35</td>\n",
       "      <td>...</td>\n",
       "      <td>-1.19</td>\n",
       "      <td>0.00</td>\n",
       "      <td>0.00</td>\n",
       "      <td>-0.80</td>\n",
       "      <td>0.74</td>\n",
       "      <td>-0.23</td>\n",
       "      <td>0.00</td>\n",
       "      <td>-0.65</td>\n",
       "      <td>0.79</td>\n",
       "      <td>-0.08</td>\n",
       "    </tr>\n",
       "    <tr>\n",
       "      <th>2</th>\n",
       "      <td>-1.15</td>\n",
       "      <td>1</td>\n",
       "      <td>1.32</td>\n",
       "      <td>1</td>\n",
       "      <td>0.00</td>\n",
       "      <td>0.00</td>\n",
       "      <td>0.00</td>\n",
       "      <td>0.00</td>\n",
       "      <td>0.77</td>\n",
       "      <td>0.32</td>\n",
       "      <td>...</td>\n",
       "      <td>-0.20</td>\n",
       "      <td>-0.37</td>\n",
       "      <td>-0.16</td>\n",
       "      <td>2.49</td>\n",
       "      <td>1.49</td>\n",
       "      <td>0.08</td>\n",
       "      <td>-1.37</td>\n",
       "      <td>1.71</td>\n",
       "      <td>1.56</td>\n",
       "      <td>-0.08</td>\n",
       "    </tr>\n",
       "    <tr>\n",
       "      <th>4</th>\n",
       "      <td>-0.09</td>\n",
       "      <td>1</td>\n",
       "      <td>0.89</td>\n",
       "      <td>1</td>\n",
       "      <td>0.00</td>\n",
       "      <td>0.00</td>\n",
       "      <td>0.00</td>\n",
       "      <td>0.00</td>\n",
       "      <td>1.62</td>\n",
       "      <td>-1.74</td>\n",
       "      <td>...</td>\n",
       "      <td>0.15</td>\n",
       "      <td>-0.46</td>\n",
       "      <td>-0.16</td>\n",
       "      <td>-0.80</td>\n",
       "      <td>0.74</td>\n",
       "      <td>-0.85</td>\n",
       "      <td>-0.37</td>\n",
       "      <td>0.92</td>\n",
       "      <td>0.02</td>\n",
       "      <td>-0.08</td>\n",
       "    </tr>\n",
       "    <tr>\n",
       "      <th>5</th>\n",
       "      <td>-0.62</td>\n",
       "      <td>1</td>\n",
       "      <td>2.82</td>\n",
       "      <td>1</td>\n",
       "      <td>0.00</td>\n",
       "      <td>0.00</td>\n",
       "      <td>0.00</td>\n",
       "      <td>0.00</td>\n",
       "      <td>-0.93</td>\n",
       "      <td>-0.71</td>\n",
       "      <td>...</td>\n",
       "      <td>0.00</td>\n",
       "      <td>0.00</td>\n",
       "      <td>0.00</td>\n",
       "      <td>-0.80</td>\n",
       "      <td>-1.48</td>\n",
       "      <td>-0.54</td>\n",
       "      <td>0.00</td>\n",
       "      <td>1.71</td>\n",
       "      <td>1.56</td>\n",
       "      <td>-0.08</td>\n",
       "    </tr>\n",
       "  </tbody>\n",
       "</table>\n",
       "<p>5 rows × 25 columns</p>\n",
       "</div>"
      ],
      "text/plain": [
       "   r1agey  ragender  raedyrs  h1rural  r1obsnoise  r1obsodor  r1obsair  \\\n",
       "0   -0.23         2    -0.82        1        0.00       0.00      0.00   \n",
       "1   -0.09         2    -0.82        1        0.00       0.00      0.00   \n",
       "2   -1.15         1     1.32        1        0.00       0.00      0.00   \n",
       "4   -0.09         1     0.89        1        0.00       0.00      0.00   \n",
       "5   -0.62         1     2.82        1        0.00       0.00      0.00   \n",
       "\n",
       "   r1obshouse  r1i_hear  r1i_sleep  ...  r1mweight  r1mbmi  r1bmicat  \\\n",
       "0        0.00      0.77       1.35  ...       0.66    0.96      1.01   \n",
       "1        0.00     -0.93       1.35  ...      -1.19    0.00      0.00   \n",
       "2        0.00      0.77       0.32  ...      -0.20   -0.37     -0.16   \n",
       "4        0.00      1.62      -1.74  ...       0.15   -0.46     -0.16   \n",
       "5        0.00     -0.93      -0.71  ...       0.00    0.00      0.00   \n",
       "\n",
       "   r1adla_d  r1cesd10  r1anx5  r1mna_scale  r1hear_r  r1hear_l  r1hear_aid  \n",
       "0     -0.80      0.56    0.38         1.20      0.13      0.79       -0.08  \n",
       "1     -0.80      0.74   -0.23         0.00     -0.65      0.79       -0.08  \n",
       "2      2.49      1.49    0.08        -1.37      1.71      1.56       -0.08  \n",
       "4     -0.80      0.74   -0.85        -0.37      0.92      0.02       -0.08  \n",
       "5     -0.80     -1.48   -0.54         0.00      1.71      1.56       -0.08  \n",
       "\n",
       "[5 rows x 25 columns]"
      ]
     },
     "execution_count": 7,
     "metadata": {},
     "output_type": "execute_result"
    }
   ],
   "source": [
    "data_X.head()"
   ]
  },
  {
   "cell_type": "code",
   "execution_count": 8,
   "metadata": {},
   "outputs": [
    {
     "data": {
      "text/html": [
       "<div>\n",
       "<style scoped>\n",
       "    .dataframe tbody tr th:only-of-type {\n",
       "        vertical-align: middle;\n",
       "    }\n",
       "\n",
       "    .dataframe tbody tr th {\n",
       "        vertical-align: top;\n",
       "    }\n",
       "\n",
       "    .dataframe thead th {\n",
       "        text-align: right;\n",
       "    }\n",
       "</style>\n",
       "<table border=\"1\" class=\"dataframe\">\n",
       "  <thead>\n",
       "    <tr style=\"text-align: right;\">\n",
       "      <th></th>\n",
       "      <th>r1borient</th>\n",
       "      <th>r1bexefu</th>\n",
       "      <th>r1blangf</th>\n",
       "      <th>r1bmemory</th>\n",
       "      <th>r1bvsp</th>\n",
       "      <th>r1nmemimm</th>\n",
       "      <th>r1nmemdel</th>\n",
       "      <th>r1nmemrec</th>\n",
       "      <th>r1nreason</th>\n",
       "      <th>r1natnspd</th>\n",
       "      <th>...</th>\n",
       "      <th>r1word_totaz</th>\n",
       "      <th>r1word_dz</th>\n",
       "      <th>r1wre_scorez</th>\n",
       "      <th>r1log_recoz</th>\n",
       "      <th>r1bm_immexz</th>\n",
       "      <th>r1bm_reclexz</th>\n",
       "      <th>r1verbalz</th>\n",
       "      <th>r1csid_scorz</th>\n",
       "      <th>r1cog_totalz</th>\n",
       "      <th>r1rv_scorez</th>\n",
       "    </tr>\n",
       "  </thead>\n",
       "  <tbody>\n",
       "    <tr>\n",
       "      <th>0</th>\n",
       "      <td>1.21</td>\n",
       "      <td>-1.01</td>\n",
       "      <td>0.15</td>\n",
       "      <td>-0.63</td>\n",
       "      <td>-1.91</td>\n",
       "      <td>-0.16</td>\n",
       "      <td>-0.45</td>\n",
       "      <td>-1.06</td>\n",
       "      <td>-1.38</td>\n",
       "      <td>-0.58</td>\n",
       "      <td>...</td>\n",
       "      <td>-0.10</td>\n",
       "      <td>0.40</td>\n",
       "      <td>-1.68</td>\n",
       "      <td>-2.38</td>\n",
       "      <td>-0.05</td>\n",
       "      <td>-0.74</td>\n",
       "      <td>1.90</td>\n",
       "      <td>0.69</td>\n",
       "      <td>-0.35</td>\n",
       "      <td>-0.45</td>\n",
       "    </tr>\n",
       "    <tr>\n",
       "      <th>1</th>\n",
       "      <td>-2.20</td>\n",
       "      <td>-1.61</td>\n",
       "      <td>-1.65</td>\n",
       "      <td>-1.39</td>\n",
       "      <td>-0.88</td>\n",
       "      <td>-1.78</td>\n",
       "      <td>-1.38</td>\n",
       "      <td>0.37</td>\n",
       "      <td>-1.60</td>\n",
       "      <td>-1.29</td>\n",
       "      <td>...</td>\n",
       "      <td>-1.27</td>\n",
       "      <td>-1.33</td>\n",
       "      <td>-1.68</td>\n",
       "      <td>-0.15</td>\n",
       "      <td>-1.28</td>\n",
       "      <td>-0.74</td>\n",
       "      <td>-2.48</td>\n",
       "      <td>-0.53</td>\n",
       "      <td>-1.89</td>\n",
       "      <td>-1.05</td>\n",
       "    </tr>\n",
       "    <tr>\n",
       "      <th>2</th>\n",
       "      <td>1.21</td>\n",
       "      <td>-0.14</td>\n",
       "      <td>0.56</td>\n",
       "      <td>0.07</td>\n",
       "      <td>1.07</td>\n",
       "      <td>0.64</td>\n",
       "      <td>-0.42</td>\n",
       "      <td>0.53</td>\n",
       "      <td>-0.84</td>\n",
       "      <td>0.47</td>\n",
       "      <td>...</td>\n",
       "      <td>1.08</td>\n",
       "      <td>-0.03</td>\n",
       "      <td>0.84</td>\n",
       "      <td>0.49</td>\n",
       "      <td>-0.05</td>\n",
       "      <td>-0.74</td>\n",
       "      <td>1.68</td>\n",
       "      <td>-0.53</td>\n",
       "      <td>0.50</td>\n",
       "      <td>-0.15</td>\n",
       "    </tr>\n",
       "    <tr>\n",
       "      <th>4</th>\n",
       "      <td>1.21</td>\n",
       "      <td>1.54</td>\n",
       "      <td>1.24</td>\n",
       "      <td>0.56</td>\n",
       "      <td>1.18</td>\n",
       "      <td>1.00</td>\n",
       "      <td>-0.03</td>\n",
       "      <td>0.12</td>\n",
       "      <td>1.05</td>\n",
       "      <td>1.93</td>\n",
       "      <td>...</td>\n",
       "      <td>0.88</td>\n",
       "      <td>-0.47</td>\n",
       "      <td>0.84</td>\n",
       "      <td>-0.15</td>\n",
       "      <td>1.80</td>\n",
       "      <td>1.75</td>\n",
       "      <td>1.02</td>\n",
       "      <td>0.69</td>\n",
       "      <td>1.06</td>\n",
       "      <td>0.16</td>\n",
       "    </tr>\n",
       "    <tr>\n",
       "      <th>5</th>\n",
       "      <td>1.21</td>\n",
       "      <td>1.56</td>\n",
       "      <td>1.43</td>\n",
       "      <td>1.16</td>\n",
       "      <td>1.88</td>\n",
       "      <td>1.37</td>\n",
       "      <td>1.01</td>\n",
       "      <td>0.99</td>\n",
       "      <td>0.93</td>\n",
       "      <td>2.08</td>\n",
       "      <td>...</td>\n",
       "      <td>1.47</td>\n",
       "      <td>1.26</td>\n",
       "      <td>0.84</td>\n",
       "      <td>0.81</td>\n",
       "      <td>1.80</td>\n",
       "      <td>2.37</td>\n",
       "      <td>1.68</td>\n",
       "      <td>0.69</td>\n",
       "      <td>1.83</td>\n",
       "      <td>0.46</td>\n",
       "    </tr>\n",
       "  </tbody>\n",
       "</table>\n",
       "<p>5 rows × 22 columns</p>\n",
       "</div>"
      ],
      "text/plain": [
       "   r1borient  r1bexefu  r1blangf  r1bmemory  r1bvsp  r1nmemimm  r1nmemdel  \\\n",
       "0       1.21     -1.01      0.15      -0.63   -1.91      -0.16      -0.45   \n",
       "1      -2.20     -1.61     -1.65      -1.39   -0.88      -1.78      -1.38   \n",
       "2       1.21     -0.14      0.56       0.07    1.07       0.64      -0.42   \n",
       "4       1.21      1.54      1.24       0.56    1.18       1.00      -0.03   \n",
       "5       1.21      1.56      1.43       1.16    1.88       1.37       1.01   \n",
       "\n",
       "   r1nmemrec  r1nreason  r1natnspd  ...  r1word_totaz  r1word_dz  \\\n",
       "0      -1.06      -1.38      -0.58  ...         -0.10       0.40   \n",
       "1       0.37      -1.60      -1.29  ...         -1.27      -1.33   \n",
       "2       0.53      -0.84       0.47  ...          1.08      -0.03   \n",
       "4       0.12       1.05       1.93  ...          0.88      -0.47   \n",
       "5       0.99       0.93       2.08  ...          1.47       1.26   \n",
       "\n",
       "   r1wre_scorez  r1log_recoz  r1bm_immexz  r1bm_reclexz  r1verbalz  \\\n",
       "0         -1.68        -2.38        -0.05         -0.74       1.90   \n",
       "1         -1.68        -0.15        -1.28         -0.74      -2.48   \n",
       "2          0.84         0.49        -0.05         -0.74       1.68   \n",
       "4          0.84        -0.15         1.80          1.75       1.02   \n",
       "5          0.84         0.81         1.80          2.37       1.68   \n",
       "\n",
       "   r1csid_scorz  r1cog_totalz  r1rv_scorez  \n",
       "0          0.69         -0.35        -0.45  \n",
       "1         -0.53         -1.89        -1.05  \n",
       "2         -0.53          0.50        -0.15  \n",
       "4          0.69          1.06         0.16  \n",
       "5          0.69          1.83         0.46  \n",
       "\n",
       "[5 rows x 22 columns]"
      ]
     },
     "execution_count": 8,
     "metadata": {},
     "output_type": "execute_result"
    }
   ],
   "source": [
    "data_Y.head()"
   ]
  },
  {
   "cell_type": "code",
   "execution_count": 9,
   "metadata": {},
   "outputs": [
    {
     "data": {
      "text/html": [
       "<div>\n",
       "<style scoped>\n",
       "    .dataframe tbody tr th:only-of-type {\n",
       "        vertical-align: middle;\n",
       "    }\n",
       "\n",
       "    .dataframe tbody tr th {\n",
       "        vertical-align: top;\n",
       "    }\n",
       "\n",
       "    .dataframe thead th {\n",
       "        text-align: right;\n",
       "    }\n",
       "</style>\n",
       "<table border=\"1\" class=\"dataframe\">\n",
       "  <thead>\n",
       "    <tr style=\"text-align: right;\">\n",
       "      <th></th>\n",
       "      <th>Identifier</th>\n",
       "      <th>Description</th>\n",
       "    </tr>\n",
       "  </thead>\n",
       "  <tbody>\n",
       "    <tr>\n",
       "      <th>0</th>\n",
       "      <td>r1agey</td>\n",
       "      <td>age</td>\n",
       "    </tr>\n",
       "    <tr>\n",
       "      <th>1</th>\n",
       "      <td>ragender</td>\n",
       "      <td>gender</td>\n",
       "    </tr>\n",
       "    <tr>\n",
       "      <th>2</th>\n",
       "      <td>raedyrs</td>\n",
       "      <td>years of education</td>\n",
       "    </tr>\n",
       "    <tr>\n",
       "      <th>3</th>\n",
       "      <td>h1rural</td>\n",
       "      <td>rural or urban</td>\n",
       "    </tr>\n",
       "    <tr>\n",
       "      <th>4</th>\n",
       "      <td>r1obsnoise</td>\n",
       "      <td>noise at home</td>\n",
       "    </tr>\n",
       "  </tbody>\n",
       "</table>\n",
       "</div>"
      ],
      "text/plain": [
       "   Identifier         Description\n",
       "0      r1agey                 age\n",
       "1    ragender              gender\n",
       "2     raedyrs  years of education\n",
       "3     h1rural      rural or urban\n",
       "4  r1obsnoise       noise at home"
      ]
     },
     "execution_count": 9,
     "metadata": {},
     "output_type": "execute_result"
    }
   ],
   "source": [
    "labels_file.head()"
   ]
  },
  {
   "cell_type": "markdown",
   "metadata": {},
   "source": [
    "### Split data into training and test sets"
   ]
  },
  {
   "cell_type": "markdown",
   "metadata": {},
   "source": [
    "As well as using the PLS components for analysis purposes, we can see how well they generalise to unseen data by projecting the components learnt on a training set onto a test set."
   ]
  },
  {
   "cell_type": "code",
   "execution_count": 10,
   "metadata": {},
   "outputs": [],
   "source": [
    "random.seed(42)\n",
    "train_idx = list(random.sample(range(0, np.shape(data_X)[0]), int(np.shape(data_X)[0]*0.8)))\n",
    "test_idx = np.setdiff1d(list(range(np.shape(data_X)[0])),train_idx)\n",
    "\n",
    "data_X_train = data_X.iloc[train_idx,:]\n",
    "data_Y_train = data_Y.iloc[train_idx,:]\n",
    "data_X_test = data_X.iloc[test_idx,:]\n",
    "data_Y_test = data_Y.iloc[test_idx,:]\n",
    "score_train = score.iloc[train_idx]\n",
    "score_test = score.iloc[test_idx]"
   ]
  },
  {
   "cell_type": "markdown",
   "metadata": {},
   "source": [
    "### PLS"
   ]
  },
  {
   "cell_type": "markdown",
   "metadata": {},
   "source": [
    "Generate the set of PLS components ordered by decreasing covariance"
   ]
  },
  {
   "cell_type": "code",
   "execution_count": 11,
   "metadata": {},
   "outputs": [],
   "source": [
    "U, _, VT = svd(np.dot(np.transpose(data_X_train),data_Y_train), full_matrices=False)\n",
    "wx = U\n",
    "wy = np.transpose(VT)"
   ]
  },
  {
   "cell_type": "markdown",
   "metadata": {},
   "source": [
    "### PLS projections"
   ]
  },
  {
   "cell_type": "markdown",
   "metadata": {},
   "source": [
    "Project the first PLS components calculated on the training data onto the test set"
   ]
  },
  {
   "cell_type": "code",
   "execution_count": 13,
   "metadata": {},
   "outputs": [
    {
     "name": "stdout",
     "output_type": "stream",
     "text": [
      "0.6619047265625964\n"
     ]
    }
   ],
   "source": [
    "proj_X = np.dot(data_X_test,wx[:,0])\n",
    "proj_Y = np.dot(data_Y_test,wy[:,0])\n",
    "corr = np.corrcoef(proj_X,proj_Y)\n",
    "abs_corr = np.absolute(corr[0,1])\n",
    "print(abs_corr)"
   ]
  },
  {
   "cell_type": "markdown",
   "metadata": {},
   "source": [
    "Strong correlation between the two projections suggesting that there is significant association between the two datasets"
   ]
  },
  {
   "cell_type": "code",
   "execution_count": 16,
   "metadata": {},
   "outputs": [
    {
     "data": {
      "image/png": "[encoded data removed]",
      "text/plain": [
       "<Figure size 432x288 with 1 Axes>"
      ]
     },
     "metadata": {
      "needs_background": "light"
     },
     "output_type": "display_data"
    }
   ],
   "source": [
    "score_test_bins = pd.cut(score_test, [-0.1, 0.49, 0.99, 1.9, 2.9, 10], labels=False)\n",
    "target = score_test_bins\n",
    "label_list = ['No dementia', 'Questionable impairment', 'Mild dementia', 'Moderate dementia', 'Severe dementia']\n",
    "color_code = ['b','r','c','m','y','g','k']\n",
    "plt.figure()\n",
    "for j in target.unique():\n",
    "    plt.plot(proj_X[np.where(target==j)],proj_Y[np.where(target==j)], color=color_code[j], label = label_list[j], linestyle='None', marker = '.')\n",
    "handles, labels = plt.gca().get_legend_handles_labels()\n",
    "by_label = OrderedDict(zip(labels, handles))\n",
    "plt.legend(by_label.values(), by_label.keys())\n",
    "plt.title('PLS projections 1 on the test data')\n",
    "plt.show()"
   ]
  },
  {
   "cell_type": "markdown",
   "metadata": {},
   "source": [
    "The first set of PLS projections shows some stratification by disease severity suggesting that the strongest association between the two datasets is in part driven by disease effects"
   ]
  },
  {
   "cell_type": "markdown",
   "metadata": {},
   "source": [
    "### PLS weights plots"
   ]
  },
  {
   "cell_type": "markdown",
   "metadata": {},
   "source": [
    "Plot the PLS weights for the first associative effect"
   ]
  },
  {
   "cell_type": "code",
   "execution_count": 17,
   "metadata": {},
   "outputs": [
    {
     "data": {
      "image/png": "[encoded data removed]",
      "text/plain": [
       "<Figure size 576x360 with 1 Axes>"
      ]
     },
     "metadata": {
      "needs_background": "light"
     },
     "output_type": "display_data"
    }
   ],
   "source": [
    "fig, ax = plt.subplots(figsize=(8,5))\n",
    "columns = list(labels_file[labels_file['Identifier'].isin(data_X.columns)]['Description'].values)\n",
    "values = wx[:,0]\n",
    "ax.bar(columns,values)\n",
    "plt.title('Demographics, health, and pollution weights')\n",
    "plt.xticks(rotation=90)\n",
    "plt.tick_params(axis='both', which='major', labelsize=9)\n",
    "fig.subplots_adjust(bottom=0.4)\n",
    "plt.show()"
   ]
  },
  {
   "cell_type": "markdown",
   "metadata": {},
   "source": [
    "Number of years of education contributes the most to the first associative effect. The weights of years in education and age are in opposite directions - years in education contributes positively to the associative effect (which stratifies subjects by decreased disease severity) and age contributes negatively to the associative effect"
   ]
  },
  {
   "cell_type": "code",
   "execution_count": 19,
   "metadata": {},
   "outputs": [
    {
     "data": {
      "image/png": "[encoded data removed]",
      "text/plain": [
       "<Figure size 576x360 with 1 Axes>"
      ]
     },
     "metadata": {
      "needs_background": "light"
     },
     "output_type": "display_data"
    }
   ],
   "source": [
    "fig, ax = plt.subplots(figsize=(8,5))\n",
    "columns = list(labels_file[labels_file['Identifier'].isin(data_Y.columns)]['Description'].values)\n",
    "values = wy[:,0]\n",
    "ax.bar(columns,values)\n",
    "plt.title('Cognitive measures weights')\n",
    "plt.xticks(rotation=90)\n",
    "plt.tick_params(axis='both', which='major', labelsize=9)\n",
    "fig.subplots_adjust(bottom=0.4)\n",
    "plt.show()"
   ]
  },
  {
   "cell_type": "markdown",
   "metadata": {},
   "source": [
    "All cognitive measures contribute positively to the associative effect"
   ]
  },
  {
   "cell_type": "code",
   "execution_count": null,
   "metadata": {},
   "outputs": [],
   "source": []
  }
 ],
 "metadata": {
  "kernelspec": {
   "display_name": "Python 3",
   "language": "python",
   "name": "python3"
  },
  "language_info": {
   "codemirror_mode": {
    "name": "ipython",
    "version": 3
   },
   "file_extension": ".py",
   "mimetype": "text/x-python",
   "name": "python",
   "nbconvert_exporter": "python",
   "pygments_lexer": "ipython3",
   "version": "3.7.4"
  }
 },
 "nbformat": 4,
 "nbformat_minor": 2
}
